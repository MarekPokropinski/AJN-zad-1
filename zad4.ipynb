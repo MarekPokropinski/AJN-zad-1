{
 "cells": [
  {
   "cell_type": "code",
   "execution_count": 32,
   "metadata": {},
   "outputs": [],
   "source": [
    "import glob\n",
    "from tqdm.auto import tqdm, trange\n",
    "import requests\n",
    "import xml.etree.ElementTree as et\n",
    "import json\n",
    "import numpy as np\n",
    "from sklearn.naive_bayes import MultinomialNB, CategoricalNB, BernoulliNB, GaussianNB"
   ]
  },
  {
   "cell_type": "markdown",
   "metadata": {},
   "source": [
    "## generate XMLs with KRNNT tagger (localhost:9003)"
   ]
  },
  {
   "cell_type": "code",
   "execution_count": 8,
   "metadata": {},
   "outputs": [],
   "source": [
    "def tag_texts(dirname):\n",
    "    filenames = glob.glob(dirname+'/*.txt')\n",
    "    for filename in tqdm(filenames):\n",
    "        with open(filename, 'r', encoding='utf-8') as f:\n",
    "            r = requests.post('http://localhost:9003?output_format=XCES', data=f.read().encode('utf-8'))\n",
    "        with open(filename.replace('.txt', '.xml'), 'w', encoding='utf-8') as f:\n",
    "            f.write(r.text)\n",
    "            \n",
    "#tag_texts('wiki_test_34_categories_data')\n",
    "#tag_texts('wiki_train_34_categories_data')"
   ]
  },
  {
   "cell_type": "markdown",
   "metadata": {},
   "source": [
    "## load flexems translation to wordclasses\n"
   ]
  },
  {
   "cell_type": "code",
   "execution_count": 9,
   "metadata": {},
   "outputs": [],
   "source": [
    "wordclass_dict = {}\n",
    "with open('fleksemy.csv', 'r') as f:\n",
    "    for line in f.readlines():\n",
    "        line = line.split(',')\n",
    "        wordclass_dict[line[1]] = line[3].replace('\\n', '')"
   ]
  },
  {
   "cell_type": "markdown",
   "metadata": {},
   "source": [
    "## load xmls into one dataset"
   ]
  },
  {
   "cell_type": "code",
   "execution_count": 10,
   "metadata": {},
   "outputs": [],
   "source": [
    "def load_dataset(dirname):\n",
    "    datasets = {'rzeczownik':[], 'czasownik':[], 'przymiotnik':[]}\n",
    "    filenames = glob.glob(dirname+\"/*.xml\")\n",
    "    for filename in tqdm(filenames):\n",
    "        tags_list = []\n",
    "        root = et.parse(filename).getroot()\n",
    "        for x in root.findall('chunk/sentence/tok/lex') + root.findall('chunkList/chunk/chunk/tok/lex'):\n",
    "            if x.get('disamb') == '1':\n",
    "                base = x.find('base').text\n",
    "                tag = x.find('ctag').text.split(':')[0]\n",
    "                wordclass = wordclass_dict[tag]\n",
    "                tags_list.append((base, wordclass))\n",
    "\n",
    "        category = filename.split('\\\\')[1].split('_')[0]\n",
    "        for key in datasets:\n",
    "            datasets[key].append((category, [base for base, wordclass in tags_list if wordclass == key]))\n",
    "    return datasets\n",
    "        "
   ]
  },
  {
   "cell_type": "code",
   "execution_count": 11,
   "metadata": {},
   "outputs": [
    {
     "data": {
      "application/vnd.jupyter.widget-view+json": {
       "model_id": "f99fbadd7d40443cb426502e5210d62c",
       "version_major": 2,
       "version_minor": 0
      },
      "text/plain": [
       "HBox(children=(FloatProgress(value=0.0, max=6886.0), HTML(value='')))"
      ]
     },
     "metadata": {},
     "output_type": "display_data"
    },
    {
     "name": "stdout",
     "output_type": "stream",
     "text": [
      "\n"
     ]
    },
    {
     "data": {
      "application/vnd.jupyter.widget-view+json": {
       "model_id": "5d82e4aaafd34a42b6d84d1c7ff40dc2",
       "version_major": 2,
       "version_minor": 0
      },
      "text/plain": [
       "HBox(children=(FloatProgress(value=0.0, max=2953.0), HTML(value='')))"
      ]
     },
     "metadata": {},
     "output_type": "display_data"
    },
    {
     "name": "stdout",
     "output_type": "stream",
     "text": [
      "\n"
     ]
    }
   ],
   "source": [
    "train_ds = load_dataset('wiki_train_34_categories_data')\n",
    "test_ds = load_dataset('wiki_test_34_categories_data')"
   ]
  },
  {
   "cell_type": "markdown",
   "metadata": {},
   "source": [
    "## trivial bag of words and NaiveBayes classification"
   ]
  },
  {
   "cell_type": "code",
   "execution_count": 48,
   "metadata": {
    "scrolled": false
   },
   "outputs": [
    {
     "name": "stdout",
     "output_type": "stream",
     "text": [
      "rzeczownik\n",
      "building dictionary\n"
     ]
    },
    {
     "data": {
      "application/vnd.jupyter.widget-view+json": {
       "model_id": "19561b8668f74c33bae260a999473bb0",
       "version_major": 2,
       "version_minor": 0
      },
      "text/plain": [
       "HBox(children=(FloatProgress(value=0.0, max=6886.0), HTML(value='')))"
      ]
     },
     "metadata": {},
     "output_type": "display_data"
    },
    {
     "name": "stdout",
     "output_type": "stream",
     "text": [
      "\n",
      "[('rok', 18301), ('miejsce', 4473), ('to', 3928), ('czas', 3555), ('Polska', 3000), ('bibliografia', 2873), ('świat', 2821), ('The', 2816), ('samolot', 2810), ('co', 2726)]\n",
      "dictionary length:  5000\n",
      "defining datasets as BoW\n"
     ]
    },
    {
     "data": {
      "application/vnd.jupyter.widget-view+json": {
       "model_id": "3f4781fd54e9478d99df1a03d33e2e87",
       "version_major": 2,
       "version_minor": 0
      },
      "text/plain": [
       "HBox(children=(FloatProgress(value=0.0, max=6886.0), HTML(value='')))"
      ]
     },
     "metadata": {},
     "output_type": "display_data"
    },
    {
     "name": "stdout",
     "output_type": "stream",
     "text": [
      "\n"
     ]
    },
    {
     "data": {
      "application/vnd.jupyter.widget-view+json": {
       "model_id": "6c5aeb30a72846c8b202004742e32eb1",
       "version_major": 2,
       "version_minor": 0
      },
      "text/plain": [
       "HBox(children=(FloatProgress(value=0.0, max=2953.0), HTML(value='')))"
      ]
     },
     "metadata": {},
     "output_type": "display_data"
    },
    {
     "name": "stdout",
     "output_type": "stream",
     "text": [
      "\n",
      "(6886, 5000) (6886,) (2953, 5000) (2953,)\n",
      "czasownik\n",
      "building dictionary\n"
     ]
    },
    {
     "data": {
      "application/vnd.jupyter.widget-view+json": {
       "model_id": "99422b2a098d4df9a821f9ecda95de16",
       "version_major": 2,
       "version_minor": 0
      },
      "text/plain": [
       "HBox(children=(FloatProgress(value=0.0, max=6886.0), HTML(value='')))"
      ]
     },
     "metadata": {},
     "output_type": "display_data"
    },
    {
     "name": "stdout",
     "output_type": "stream",
     "text": [
      "\n",
      "[('być', 30989), ('zostać', 9332), ('mieć', 6076), ('móc', 3425), ('występować', 1981), ('znajdować', 1710), ('prowadzić', 1510), ('posiadać', 1363), ('należeć', 1322), ('stosować', 1295)]\n",
      "dictionary length:  5000\n",
      "defining datasets as BoW\n"
     ]
    },
    {
     "data": {
      "application/vnd.jupyter.widget-view+json": {
       "model_id": "9d93ecfdfd234c0184bc2b3e8966d03d",
       "version_major": 2,
       "version_minor": 0
      },
      "text/plain": [
       "HBox(children=(FloatProgress(value=0.0, max=6886.0), HTML(value='')))"
      ]
     },
     "metadata": {},
     "output_type": "display_data"
    },
    {
     "name": "stdout",
     "output_type": "stream",
     "text": [
      "\n"
     ]
    },
    {
     "data": {
      "application/vnd.jupyter.widget-view+json": {
       "model_id": "f8aa3fa04e754404bb7920f65acc0585",
       "version_major": 2,
       "version_minor": 0
      },
      "text/plain": [
       "HBox(children=(FloatProgress(value=0.0, max=2953.0), HTML(value='')))"
      ]
     },
     "metadata": {},
     "output_type": "display_data"
    },
    {
     "name": "stdout",
     "output_type": "stream",
     "text": [
      "\n",
      "(6886, 5000) (6886,) (2953, 5000) (2953,)\n",
      "przymiotnik\n",
      "building dictionary\n"
     ]
    },
    {
     "data": {
      "application/vnd.jupyter.widget-view+json": {
       "model_id": "76e9d944d7e14c0089314d586b8540e9",
       "version_major": 2,
       "version_minor": 0
      },
      "text/plain": [
       "HBox(children=(FloatProgress(value=0.0, max=6886.0), HTML(value='')))"
      ]
     },
     "metadata": {},
     "output_type": "display_data"
    },
    {
     "name": "stdout",
     "output_type": "stream",
     "text": [
      "\n",
      "[('który', 11408), ('ten', 10431), ('1', 6356), ('pierwszy', 5036), ('polski', 4856), ('swój', 3878), ('inny', 3543), ('jeden', 3542), ('duży', 2820), ('zewnętrzny', 2762)]\n",
      "dictionary length:  5000\n",
      "defining datasets as BoW\n"
     ]
    },
    {
     "data": {
      "application/vnd.jupyter.widget-view+json": {
       "model_id": "ee4fc68a1f34421bbaabf37beccb5bfe",
       "version_major": 2,
       "version_minor": 0
      },
      "text/plain": [
       "HBox(children=(FloatProgress(value=0.0, max=6886.0), HTML(value='')))"
      ]
     },
     "metadata": {},
     "output_type": "display_data"
    },
    {
     "name": "stdout",
     "output_type": "stream",
     "text": [
      "\n"
     ]
    },
    {
     "data": {
      "application/vnd.jupyter.widget-view+json": {
       "model_id": "68564725185b4bdba8a19970482f279f",
       "version_major": 2,
       "version_minor": 0
      },
      "text/plain": [
       "HBox(children=(FloatProgress(value=0.0, max=2953.0), HTML(value='')))"
      ]
     },
     "metadata": {},
     "output_type": "display_data"
    },
    {
     "name": "stdout",
     "output_type": "stream",
     "text": [
      "\n",
      "(6886, 5000) (6886,) (2953, 5000) (2953,)\n"
     ]
    }
   ],
   "source": [
    "dict_size = 5000\n",
    "\n",
    "bow = {}\n",
    "for key in train_ds:\n",
    "    print(key)\n",
    "    \n",
    "    print('building dictionary')\n",
    "    dictionary = {}\n",
    "    for _, words in tqdm(train_ds[key]):\n",
    "        for word in words:\n",
    "            if word not in dictionary:\n",
    "                dictionary[word] = 1\n",
    "            else:\n",
    "                dictionary[word] += 1\n",
    "                \n",
    "    # dict reducing - only N most frequent words\n",
    "    dictionary = sorted(dictionary.items(), key = lambda x: x[1], reverse=True)[:dict_size]\n",
    "    print(dictionary[:10])\n",
    "    dictionary = {key: value for key, value in dictionary}\n",
    "    print('dictionary length: ', len(dictionary))\n",
    "    \n",
    "    print('defining datasets as BoW')\n",
    "    train_X = np.array([[1. if word in words else 0. for word in dictionary] for _, words in tqdm(train_ds[key])])\n",
    "    _, train_y = np.unique(np.array([category for category, _ in train_ds[key]]), return_inverse=True)\n",
    "    \n",
    "    test_X = np.array([[1. if word in words else 0. for word in dictionary] for _, words in tqdm(test_ds[key])])\n",
    "    _, test_y = np.unique(np.array([category for category, _ in test_ds[key]]), return_inverse=True)\n",
    "    \n",
    "    print(train_X.shape, train_y.shape, test_X.shape, test_y.shape)\n",
    "    bow[key] = (train_X, train_y, test_X, test_y)"
   ]
  },
  {
   "cell_type": "code",
   "execution_count": 52,
   "metadata": {},
   "outputs": [
    {
     "name": "stdout",
     "output_type": "stream",
     "text": [
      "rzeczownik 0.9215800174266628 0.8614967829326109\n",
      "czasownik 0.7468777229160616 0.5980358956992888\n",
      "przymiotnik 0.8595701423177462 0.7500846596681341\n"
     ]
    }
   ],
   "source": [
    "for key, (train_X, train_y, test_X, test_y) in bow.items():\n",
    "    cnb = MultinomialNB()\n",
    "    cnb.fit(train_X, train_y)\n",
    "    train_score = cnb.score(train_X, train_y)\n",
    "    test_score = cnb.score(test_X, test_y)\n",
    "    print(key, train_score, test_score)"
   ]
  },
  {
   "cell_type": "code",
   "execution_count": null,
   "metadata": {},
   "outputs": [],
   "source": []
  }
 ],
 "metadata": {
  "kernelspec": {
   "display_name": "Python 3",
   "language": "python",
   "name": "python3"
  },
  "language_info": {
   "codemirror_mode": {
    "name": "ipython",
    "version": 3
   },
   "file_extension": ".py",
   "mimetype": "text/x-python",
   "name": "python",
   "nbconvert_exporter": "python",
   "pygments_lexer": "ipython3",
   "version": "3.8.5"
  }
 },
 "nbformat": 4,
 "nbformat_minor": 4
}
